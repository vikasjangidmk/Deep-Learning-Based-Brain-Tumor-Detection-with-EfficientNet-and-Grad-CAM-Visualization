{
 "cells": [
  {
   "cell_type": "code",
   "execution_count": 1,
   "metadata": {},
   "outputs": [],
   "source": [
    "import os, shutil\n",
    "import random\n",
    "from tqdm import tqdm\n",
    "import numpy as np\n",
    "import pandas as pd\n",
    "import matplotlib.pyplot as plt\n",
    "import cv2\n",
    "import seaborn as sns\n",
    "from IPython.display import Image\n",
    "import imutils\n",
    "import matplotlib.image as mpimg\n",
    "%matplotlib inline\n",
    "plt.style.use('ggplot')"
   ]
  },
  {
   "cell_type": "code",
   "execution_count": 2,
   "metadata": {},
   "outputs": [
    {
     "data": {
      "text/plain": [
       "'\\nimport zipfile\\nz = zipfile.ZipFile(\"archive.zip\")\\nz.extractall()\\n'"
      ]
     },
     "execution_count": 2,
     "metadata": {},
     "output_type": "execute_result"
    }
   ],
   "source": [
    "'''\n",
    "import zipfile\n",
    "z = zipfile.ZipFile(\"archive.zip\")\n",
    "z.extractall()\n",
    "'''"
   ]
  },
  {
   "cell_type": "code",
   "execution_count": 3,
   "metadata": {},
   "outputs": [
    {
     "data": {
      "text/plain": [
       "'\\nfolder = \\'brain_tumor_dataset/yes/\\'\\ncount = 1\\n\\nfor filename in os.listdir(folder):\\n    source = folder + filename\\n    destination = folder + \"Y_\"+str(count)+\".jpg\"\\n    os.rename(source,destination)\\n    count+=1\\n    \\nprint(\"All Files are renamed in the yes dir\")\\n'"
      ]
     },
     "execution_count": 3,
     "metadata": {},
     "output_type": "execute_result"
    }
   ],
   "source": [
    "'''\n",
    "folder = 'brain_tumor_dataset/yes/'\n",
    "count = 1\n",
    "\n",
    "for filename in os.listdir(folder):\n",
    "    source = folder + filename\n",
    "    destination = folder + \"Y_\"+str(count)+\".jpg\"\n",
    "    os.rename(source,destination)\n",
    "    count+=1\n",
    "    \n",
    "print(\"All Files are renamed in the yes dir\")\n",
    "'''"
   ]
  },
  {
   "cell_type": "code",
   "execution_count": 4,
   "metadata": {},
   "outputs": [
    {
     "data": {
      "text/plain": [
       "'\\nfolder = \\'brain_tumor_dataset/no/\\'\\ncount = 1\\n\\nfor filename in os.listdir(folder):\\n    source = folder + filename\\n    destination = folder + \"N_\"+str(count)+\".jpg\"\\n    os.rename(source,destination)\\n    count+=1\\n    \\nprint(\"All Files are renamed in the no dir\")\\n'"
      ]
     },
     "execution_count": 4,
     "metadata": {},
     "output_type": "execute_result"
    }
   ],
   "source": [
    "'''\n",
    "folder = 'brain_tumor_dataset/no/'\n",
    "count = 1\n",
    "\n",
    "for filename in os.listdir(folder):\n",
    "    source = folder + filename\n",
    "    destination = folder + \"N_\"+str(count)+\".jpg\"\n",
    "    os.rename(source,destination)\n",
    "    count+=1\n",
    "    \n",
    "print(\"All Files are renamed in the no dir\")\n",
    "'''"
   ]
  },
  {
   "cell_type": "markdown",
   "metadata": {},
   "source": [
    "# **EDA**"
   ]
  },
  {
   "cell_type": "code",
   "execution_count": 5,
   "metadata": {},
   "outputs": [
    {
     "name": "stdout",
     "output_type": "stream",
     "text": [
      "155\n",
      "98\n"
     ]
    }
   ],
   "source": [
    "listyes = os.listdir(\"brain_tumor_dataset/yes/\")\n",
    "number_files_yes = len(listyes)\n",
    "print(number_files_yes)\n",
    "\n",
    "listno = os.listdir(\"brain_tumor_dataset/no/\")\n",
    "number_files_no = len(listno)\n",
    "print(number_files_no)"
   ]
  },
  {
   "cell_type": "code",
   "execution_count": 6,
   "metadata": {},
   "outputs": [
    {
     "data": {
      "image/png": "[encoded data removed]",
      "text/plain": [
       "<Figure size 500x500 with 1 Axes>"
      ]
     },
     "metadata": {},
     "output_type": "display_data"
    }
   ],
   "source": [
    "data = {'tumorous': number_files_yes, 'non-tumorous':number_files_no}\n",
    "\n",
    "typex = data.keys()\n",
    "values = data.values()\n",
    "\n",
    "fig = plt.figure(figsize=(5,5))\n",
    "plt.bar(typex,values)\n",
    "\n",
    "plt.xlabel(\"Data\")\n",
    "plt.ylabel(\"No. of Brain Tumor Images\")\n",
    "plt.title(\"Count of Brain Tumor Images\")\n",
    "plt.show()"
   ]
  },
  {
   "cell_type": "markdown",
   "metadata": {},
   "source": [
    "# **Data Augumentation**\n",
    "- 155(61% yes) and 98(39% no)\n",
    "- imbalance data problem "
   ]
  },
  {
   "cell_type": "code",
   "execution_count": 7,
   "metadata": {},
   "outputs": [],
   "source": [
    "import tensorflow as tf\n",
    "from tensorflow.keras.preprocessing.image import ImageDataGenerator\n",
    "from tensorflow.keras.models import Model\n",
    "from tensorflow.keras.layers import Flatten, Dense, Dropout\n",
    "from tensorflow.keras.applications.vgg19 import VGG19  # Corrected import\n",
    "from tensorflow.keras.optimizers import SGD, Adam\n",
    "from tensorflow.keras.callbacks import ModelCheckpoint, EarlyStopping, ReduceLROnPlateau"
   ]
  },
  {
   "cell_type": "code",
   "execution_count": 9,
   "metadata": {},
   "outputs": [],
   "source": [
    "def timing(sec_elapsed):\n",
    "    h = int(sec_elapsed / (60*60))\n",
    "    m = int(sec_elapsed % (60*60) / 60)\n",
    "    s = sec_elapsed % 60\n",
    "    return f\"{h}:{m}:{s}\""
   ]
  },
  {
   "cell_type": "code",
   "execution_count": 8,
   "metadata": {},
   "outputs": [],
   "source": [
    "def augmented_data(file_dir, n_generated_samples, save_to_dir):\n",
    "    data_gen = ImageDataGenerator(rotation_range=10, \n",
    "                      width_shift_range=0.1,\n",
    "                      height_shift_range=0.1,\n",
    "                      shear_range=0.1,\n",
    "                      brightness_range=(0.3, 1.0),\n",
    "                      horizontal_flip=True,\n",
    "                      vertical_flip=True,\n",
    "                      fill_mode='nearest')\n",
    "    for filename in os.listdir(file_dir):\n",
    "        image = cv2.imread(file_dir + '/' + filename)\n",
    "        image = image.reshape((1,) + image.shape)\n",
    "        save_prefix = 'aug_' + filename[:-4]\n",
    "        i=0\n",
    "        for batch in data_gen.flow(x = image, batch_size = 1, save_to_dir = save_to_dir, save_prefix = save_prefix, save_format = \"jpg\"):\n",
    "            i+=1\n",
    "            if i>n_generated_samples:\n",
    "                break"
   ]
  },
  {
   "cell_type": "code",
   "execution_count": 11,
   "metadata": {},
   "outputs": [
    {
     "name": "stdout",
     "output_type": "stream",
     "text": [
      "0:1:1.0335168838500977\n"
     ]
    }
   ],
   "source": [
    "import time\n",
    "start_time = time.time()\n",
    "\n",
    "yes_path = 'brain_tumor_dataset/yes' \n",
    "no_path = 'brain_tumor_dataset/no'\n",
    "\n",
    "augmented_data_path = 'augmented_data/'\n",
    "\n",
    "augmented_data(file_dir = yes_path, n_generated_samples=6, save_to_dir=augmented_data_path+'yes')\n",
    "augmented_data(file_dir = no_path, n_generated_samples=9, save_to_dir=augmented_data_path+'no')\n",
    "\n",
    "end_time = time.time()\n",
    "execution_time = end_time - start_time\n",
    "print(timing(execution_time))"
   ]
  },
  {
   "cell_type": "code",
   "execution_count": 15,
   "metadata": {},
   "outputs": [],
   "source": [
    "def data_summary(main_path):\n",
    "    yes_path = \"augmented_data/yes/\" \n",
    "    no_path = \"augmented_data/no/\"\n",
    "    \n",
    "    n_pos = len(os.listdir(yes_path))\n",
    "    n_neg = len(os.listdir(no_path))\n",
    "    \n",
    "    n = (n_pos + n_neg)\n",
    "    \n",
    "    pos_per = (n_pos*100)/n\n",
    "    neg_per = (n_neg*100)/n\n",
    "    \n",
    "    print(f\"Number of sample: {n}\")\n",
    "    print(f\"{n_pos} Number of positive sample in percentage: {pos_per}%\")\n",
    "    print(f\"{n_neg} Number of negative sample in percentage: {neg_per}%\")"
   ]
  },
  {
   "cell_type": "code",
   "execution_count": 16,
   "metadata": {},
   "outputs": [
    {
     "name": "stdout",
     "output_type": "stream",
     "text": [
      "Number of sample: 2065\n",
      "1085 Number of positive sample in percentage: 52.54237288135593%\n",
      "980 Number of negative sample in percentage: 47.45762711864407%\n"
     ]
    }
   ],
   "source": [
    "data_summary(augmented_data_path)"
   ]
  },
  {
   "cell_type": "code",
   "execution_count": 17,
   "metadata": {},
   "outputs": [
    {
     "name": "stdout",
     "output_type": "stream",
     "text": [
      "1085\n",
      "980\n"
     ]
    }
   ],
   "source": [
    "listyes = os.listdir(\"augmented_data/yes/\")\n",
    "number_files_yes = len(listyes)\n",
    "print(number_files_yes)\n",
    "\n",
    "listno = os.listdir(\"augmented_data/no/\")\n",
    "number_files_no = len(listno)\n",
    "print(number_files_no)"
   ]
  },
  {
   "cell_type": "code",
   "execution_count": 18,
   "metadata": {},
   "outputs": [
    {
     "data": {
      "image/png": "[encoded data removed]",
      "text/plain": [
       "<Figure size 500x700 with 1 Axes>"
      ]
     },
     "metadata": {},
     "output_type": "display_data"
    }
   ],
   "source": [
    "data = {'tumorous': number_files_yes, 'non-tumorous': number_files_no}\n",
    "\n",
    "typex = data.keys()\n",
    "values = data.values()\n",
    "\n",
    "fig = plt.figure(figsize=(5,7))\n",
    "\n",
    "plt.bar(typex, values, color=\"red\")\n",
    "\n",
    "plt.xlabel(\"Data\")\n",
    "plt.ylabel(\"No of Brain Tumor Images\")\n",
    "plt.title(\"Count of Brain Tumor Images\")\n",
    "plt.show()"
   ]
  },
  {
   "cell_type": "markdown",
   "metadata": {},
   "source": [
    "# Data Preprocessing\n",
    "* Convert BGR TO GRAY\n",
    "* GaussianBlur\n",
    "* Threshold\n",
    "* Erode\n",
    "* Dilate\n",
    "* Find Contours"
   ]
  },
  {
   "cell_type": "code",
   "execution_count": null,
   "metadata": {},
   "outputs": [],
   "source": []
  }
 ],
 "metadata": {
  "kernelspec": {
   "display_name": "Python 3",
   "language": "python",
   "name": "python3"
  },
  "language_info": {
   "codemirror_mode": {
    "name": "ipython",
    "version": 3
   },
   "file_extension": ".py",
   "mimetype": "text/x-python",
   "name": "python",
   "nbconvert_exporter": "python",
   "pygments_lexer": "ipython3",
   "version": "3.10.0"
  }
 },
 "nbformat": 4,
 "nbformat_minor": 2
}
