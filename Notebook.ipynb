{
 "cells": [
  {
   "cell_type": "code",
   "execution_count": 1,
   "metadata": {},
   "outputs": [],
   "source": [
    "import os, shutil\n",
    "import random\n",
    "from tqdm import tqdm\n",
    "import numpy as np\n",
    "import pandas as pd\n",
    "import matplotlib.pyplot as plt\n",
    "import cv2\n",
    "import seaborn as sns\n",
    "from IPython.display import Image\n",
    "import imutils\n",
    "import matplotlib.image as mpimg\n",
    "%matplotlib inline\n",
    "plt.style.use('ggplot')"
   ]
  },
  {
   "cell_type": "code",
   "execution_count": 2,
   "metadata": {},
   "outputs": [
    {
     "data": {
      "text/plain": [
       "'\\nimport zipfile\\nz = zipfile.ZipFile(\"archive.zip\")\\nz.extractall()\\n'"
      ]
     },
     "execution_count": 2,
     "metadata": {},
     "output_type": "execute_result"
    }
   ],
   "source": [
    "'''\n",
    "import zipfile\n",
    "z = zipfile.ZipFile(\"archive.zip\")\n",
    "z.extractall()\n",
    "'''"
   ]
  },
  {
   "cell_type": "code",
   "execution_count": 3,
   "metadata": {},
   "outputs": [
    {
     "data": {
      "text/plain": [
       "'\\nfolder = \\'brain_tumor_dataset/yes/\\'\\ncount = 1\\n\\nfor filename in os.listdir(folder):\\n    source = folder + filename\\n    destination = folder + \"Y_\"+str(count)+\".jpg\"\\n    os.rename(source,destination)\\n    count+=1\\n    \\nprint(\"All Files are renamed in the yes dir\")\\n'"
      ]
     },
     "execution_count": 3,
     "metadata": {},
     "output_type": "execute_result"
    }
   ],
   "source": [
    "'''\n",
    "folder = 'brain_tumor_dataset/yes/'\n",
    "count = 1\n",
    "\n",
    "for filename in os.listdir(folder):\n",
    "    source = folder + filename\n",
    "    destination = folder + \"Y_\"+str(count)+\".jpg\"\n",
    "    os.rename(source,destination)\n",
    "    count+=1\n",
    "    \n",
    "print(\"All Files are renamed in the yes dir\")\n",
    "'''"
   ]
  },
  {
   "cell_type": "code",
   "execution_count": 4,
   "metadata": {},
   "outputs": [
    {
     "data": {
      "text/plain": [
       "'\\nfolder = \\'brain_tumor_dataset/no/\\'\\ncount = 1\\n\\nfor filename in os.listdir(folder):\\n    source = folder + filename\\n    destination = folder + \"N_\"+str(count)+\".jpg\"\\n    os.rename(source,destination)\\n    count+=1\\n    \\nprint(\"All Files are renamed in the no dir\")\\n'"
      ]
     },
     "execution_count": 4,
     "metadata": {},
     "output_type": "execute_result"
    }
   ],
   "source": [
    "'''\n",
    "folder = 'brain_tumor_dataset/no/'\n",
    "count = 1\n",
    "\n",
    "for filename in os.listdir(folder):\n",
    "    source = folder + filename\n",
    "    destination = folder + \"N_\"+str(count)+\".jpg\"\n",
    "    os.rename(source,destination)\n",
    "    count+=1\n",
    "    \n",
    "print(\"All Files are renamed in the no dir\")\n",
    "'''"
   ]
  },
  {
   "cell_type": "markdown",
   "metadata": {},
   "source": [
    "# **EDA**"
   ]
  },
  {
   "cell_type": "code",
   "execution_count": 5,
   "metadata": {},
   "outputs": [
    {
     "name": "stdout",
     "output_type": "stream",
     "text": [
      "155\n",
      "98\n"
     ]
    }
   ],
   "source": [
    "listyes = os.listdir(\"brain_tumor_dataset/yes/\")\n",
    "number_files_yes = len(listyes)\n",
    "print(number_files_yes)\n",
    "\n",
    "listno = os.listdir(\"brain_tumor_dataset/no/\")\n",
    "number_files_no = len(listno)\n",
    "print(number_files_no)"
   ]
  },
  {
   "cell_type": "code",
   "execution_count": 6,
   "metadata": {},
   "outputs": [
    {
     "data": {
      "image/png": "[encoded data removed]",
      "text/plain": [
       "<Figure size 500x500 with 1 Axes>"
      ]
     },
     "metadata": {},
     "output_type": "display_data"
    }
   ],
   "source": [
    "data = {'tumorous': number_files_yes, 'non-tumorous':number_files_no}\n",
    "\n",
    "typex = data.keys()\n",
    "values = data.values()\n",
    "\n",
    "fig = plt.figure(figsize=(5,5))\n",
    "plt.bar(typex,values)\n",
    "\n",
    "plt.xlabel(\"Data\")\n",
    "plt.ylabel(\"No. of Brain Tumor Images\")\n",
    "plt.title(\"Count of Brain Tumor Images\")\n",
    "plt.show()"
   ]
  },
  {
   "cell_type": "markdown",
   "metadata": {},
   "source": [
    "# **Data Augumentation**\n",
    "- 155(61% yes) and 98(39% no)\n",
    "- imbalance data problem "
   ]
  },
  {
   "cell_type": "code",
   "execution_count": 7,
   "metadata": {},
   "outputs": [],
   "source": [
    "import tensorflow as tf\n",
    "from tensorflow.keras.preprocessing.image import ImageDataGenerator\n",
    "from tensorflow.keras.models import Model\n",
    "from tensorflow.keras.layers import Flatten, Dense, Dropout\n",
    "from tensorflow.keras.applications.vgg19 import VGG19  # Corrected import\n",
    "from tensorflow.keras.optimizers import SGD, Adam\n",
    "from tensorflow.keras.callbacks import ModelCheckpoint, EarlyStopping, ReduceLROnPlateau"
   ]
  },
  {
   "cell_type": "code",
   "execution_count": 8,
   "metadata": {},
   "outputs": [],
   "source": [
    "def augmented_data(file_dir, n_generated_samples, save_to_dir):\n",
    "    data_gen = ImageDataGenerator(rotation_range=10, \n",
    "                      width_shift_range=0.1,\n",
    "                      height_shift_range=0.1,\n",
    "                      shear_range=0.1,\n",
    "                      brightness_range=(0.3, 1.0),\n",
    "                      horizontal_flip=True,\n",
    "                      vertical_flip=True,\n",
    "                      fill_mode='nearest')\n",
    "    for filename in os.listdir(file_dir):\n",
    "        image = cv2.imread(file_dir + '/' + filename)\n",
    "        image = image.reshape((1,) + image.shape)\n",
    "        save_prefix = 'aug_' + filename[:-4]\n",
    "        i=0\n",
    "        for batch in data_gen.flow(x = image, batch_size = 1, save_to_dir = save_to_dir, save_prefix = save_prefix, save_format = \"jpg\"):\n",
    "            i+=1\n",
    "            if i>n_generated_samples:\n",
    "                break"
   ]
  },
  {
   "cell_type": "code",
   "execution_count": null,
   "metadata": {},
   "outputs": [],
   "source": []
  }
 ],
 "metadata": {
  "kernelspec": {
   "display_name": "Python 3",
   "language": "python",
   "name": "python3"
  },
  "language_info": {
   "codemirror_mode": {
    "name": "ipython",
    "version": 3
   },
   "file_extension": ".py",
   "mimetype": "text/x-python",
   "name": "python",
   "nbconvert_exporter": "python",
   "pygments_lexer": "ipython3",
   "version": "3.10.0"
  }
 },
 "nbformat": 4,
 "nbformat_minor": 2
}
